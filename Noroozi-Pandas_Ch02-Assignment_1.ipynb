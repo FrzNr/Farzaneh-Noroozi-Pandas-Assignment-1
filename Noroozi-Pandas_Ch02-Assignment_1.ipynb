{
 "cells": [
  {
   "cell_type": "code",
   "execution_count": 26,
   "id": "9747add0",
   "metadata": {},
   "outputs": [],
   "source": [
    "#Farzaneh Noroozi-Activity 2.01\n",
    "#1. Import the pandas library. \n",
    "import pandas as pd"
   ]
  },
  {
   "cell_type": "code",
   "execution_count": 27,
   "id": "e99d5187",
   "metadata": {},
   "outputs": [],
   "source": [
    "#2. Read the US_GDP.csv file from the Datasets directory into a DataFrame named GDP_data. \n",
    "fname = 'C:/Users/15039/OneDrive/Desktop/5310/Book-github/The-Pandas-Workshop-master/Chapter02/Datasets/GDP_data.csv'\n",
    "GDP_data = pd.read_csv(fname)"
   ]
  },
  {
   "cell_type": "code",
   "execution_count": 21,
   "id": "d9540932",
   "metadata": {},
   "outputs": [
    {
     "data": {
      "text/html": [
       "<div>\n",
       "<style scoped>\n",
       "    .dataframe tbody tr th:only-of-type {\n",
       "        vertical-align: middle;\n",
       "    }\n",
       "\n",
       "    .dataframe tbody tr th {\n",
       "        vertical-align: top;\n",
       "    }\n",
       "\n",
       "    .dataframe thead th {\n",
       "        text-align: right;\n",
       "    }\n",
       "</style>\n",
       "<table border=\"1\" class=\"dataframe\">\n",
       "  <thead>\n",
       "    <tr style=\"text-align: right;\">\n",
       "      <th></th>\n",
       "      <th>date</th>\n",
       "      <th>GDP</th>\n",
       "    </tr>\n",
       "  </thead>\n",
       "  <tbody>\n",
       "    <tr>\n",
       "      <th>0</th>\n",
       "      <td>2017-03-31</td>\n",
       "      <td>19190.4</td>\n",
       "    </tr>\n",
       "    <tr>\n",
       "      <th>1</th>\n",
       "      <td>2017-06-30</td>\n",
       "      <td>19356.6</td>\n",
       "    </tr>\n",
       "    <tr>\n",
       "      <th>2</th>\n",
       "      <td>2017-09-30</td>\n",
       "      <td>19611.7</td>\n",
       "    </tr>\n",
       "    <tr>\n",
       "      <th>3</th>\n",
       "      <td>2017-12-31</td>\n",
       "      <td>19918.9</td>\n",
       "    </tr>\n",
       "    <tr>\n",
       "      <th>4</th>\n",
       "      <td>2018-03-31</td>\n",
       "      <td>20163.2</td>\n",
       "    </tr>\n",
       "  </tbody>\n",
       "</table>\n",
       "</div>"
      ],
      "text/plain": [
       "         date      GDP\n",
       "0  2017-03-31  19190.4\n",
       "1  2017-06-30  19356.6\n",
       "2  2017-09-30  19611.7\n",
       "3  2017-12-31  19918.9\n",
       "4  2018-03-31  20163.2"
      ]
     },
     "execution_count": 21,
     "metadata": {},
     "output_type": "execute_result"
    }
   ],
   "source": [
    "3. Display the head of GDP_data so that you can see the formats of the data in the file. \n",
    "GDP_data.head()"
   ]
  },
  {
   "cell_type": "code",
   "execution_count": 22,
   "id": "e857b3f1",
   "metadata": {},
   "outputs": [
    {
     "data": {
      "text/plain": [
       "date     object\n",
       "GDP     float64\n",
       "dtype: object"
      ]
     },
     "execution_count": 22,
     "metadata": {},
     "output_type": "execute_result"
    }
   ],
   "source": [
    "#4. Inspect the object types of GDP_data, in particular the date column. \n",
    "GDP_data.dtypes"
   ]
  },
  {
   "cell_type": "code",
   "execution_count": 23,
   "id": "89576145",
   "metadata": {},
   "outputs": [],
   "source": [
    "#5. Use the pd.to_datetime() method to convert the date column into a timestamp. \n",
    "GDP_data['date'] = pd.to_datetime(GDP_data['date'])"
   ]
  },
  {
   "cell_type": "code",
   "execution_count": 28,
   "id": "dc2e4294",
   "metadata": {},
   "outputs": [
    {
     "data": {
      "text/html": [
       "<div>\n",
       "<style scoped>\n",
       "    .dataframe tbody tr th:only-of-type {\n",
       "        vertical-align: middle;\n",
       "    }\n",
       "\n",
       "    .dataframe tbody tr th {\n",
       "        vertical-align: top;\n",
       "    }\n",
       "\n",
       "    .dataframe thead th {\n",
       "        text-align: right;\n",
       "    }\n",
       "</style>\n",
       "<table border=\"1\" class=\"dataframe\">\n",
       "  <thead>\n",
       "    <tr style=\"text-align: right;\">\n",
       "      <th></th>\n",
       "      <th>GDP</th>\n",
       "    </tr>\n",
       "    <tr>\n",
       "      <th>date</th>\n",
       "      <th></th>\n",
       "    </tr>\n",
       "  </thead>\n",
       "  <tbody>\n",
       "    <tr>\n",
       "      <th>2017-03-31</th>\n",
       "      <td>19190.4</td>\n",
       "    </tr>\n",
       "    <tr>\n",
       "      <th>2017-06-30</th>\n",
       "      <td>19356.6</td>\n",
       "    </tr>\n",
       "    <tr>\n",
       "      <th>2017-09-30</th>\n",
       "      <td>19611.7</td>\n",
       "    </tr>\n",
       "    <tr>\n",
       "      <th>2017-12-31</th>\n",
       "      <td>19918.9</td>\n",
       "    </tr>\n",
       "    <tr>\n",
       "      <th>2018-03-31</th>\n",
       "      <td>20163.2</td>\n",
       "    </tr>\n",
       "  </tbody>\n",
       "</table>\n",
       "</div>"
      ],
      "text/plain": [
       "                GDP\n",
       "date               \n",
       "2017-03-31  19190.4\n",
       "2017-06-30  19356.6\n",
       "2017-09-30  19611.7\n",
       "2017-12-31  19918.9\n",
       "2018-03-31  20163.2"
      ]
     },
     "execution_count": 28,
     "metadata": {},
     "output_type": "execute_result"
    }
   ],
   "source": [
    "#6. Use the .set_index() method to replace the index with the date column. \n",
    "#Be sure to use inplace = True so the result is applied to the existing DataFrame, and drop = True \n",
    "#to remove the date column after it is used for the index. \n",
    "#Use .head() to confirm the result\n",
    "GDP_data.set_index('date', inplace = True)\n",
    "GDP_data.head()"
   ]
  },
  {
   "cell_type": "code",
   "execution_count": 29,
   "id": "d2581755",
   "metadata": {},
   "outputs": [],
   "source": [
    "#Use the .to_csv() method to save the file to a new .csv file named US_GDP_ date_index.csv. \n",
    "GDP_data.to_csv('C:/Users/15039/OneDrive/Desktop/5310/Book-github/The-Pandas-Workshop-master/Chapter02/Datasets/GDP_data.csv')"
   ]
  }
 ],
 "metadata": {
  "kernelspec": {
   "display_name": "Pandas_Workshop",
   "language": "python",
   "name": "pandas_workshop"
  },
  "language_info": {
   "codemirror_mode": {
    "name": "ipython",
    "version": 3
   },
   "file_extension": ".py",
   "mimetype": "text/x-python",
   "name": "python",
   "nbconvert_exporter": "python",
   "pygments_lexer": "ipython3",
   "version": "3.11.3"
  }
 },
 "nbformat": 4,
 "nbformat_minor": 5
}
